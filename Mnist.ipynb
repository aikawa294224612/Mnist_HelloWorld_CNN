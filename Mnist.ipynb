{
 "cells": [
  {
   "cell_type": "code",
   "execution_count": 4,
   "metadata": {
    "colab": {
     "base_uri": "https://localhost:8080/"
    },
    "id": "w4h--kOS1UKp",
    "outputId": "849a2e6f-3b5b-4f48-dab3-eca2495f1926"
   },
   "outputs": [
    {
     "name": "stdout",
     "output_type": "stream",
     "text": [
      "[name: \"/device:CPU:0\"\n",
      "device_type: \"CPU\"\n",
      "memory_limit: 268435456\n",
      "locality {\n",
      "}\n",
      "incarnation: 3148300299864707444\n",
      ", name: \"/device:GPU:0\"\n",
      "device_type: \"GPU\"\n",
      "memory_limit: 14674281152\n",
      "locality {\n",
      "  bus_id: 1\n",
      "  links {\n",
      "  }\n",
      "}\n",
      "incarnation: 14405985589925203960\n",
      "physical_device_desc: \"device: 0, name: Tesla T4, pci bus id: 0000:00:04.0, compute capability: 7.5\"\n",
      "]\n"
     ]
    }
   ],
   "source": [
    "from tensorflow.python.client import device_lib\n",
    "print(device_lib.list_local_devices())"
   ]
  },
  {
   "cell_type": "code",
   "execution_count": 5,
   "metadata": {
    "id": "PMpKs_O71lRI"
   },
   "outputs": [],
   "source": [
    "import keras\n",
    "import tensorflow as tf\n",
    "from keras.datasets import mnist\n",
    "from keras.models import Sequential\n",
    "from keras.layers import Dense, Dropout, LeakyReLU, Conv2D, MaxPool2D, Flatten\n",
    "from keras.optimizers import RMSprop\n",
    "from keras import backend as K\n",
    "import os \n",
    "\n",
    "# tf2.0使用tf.test.is_gpu_available()來確認機器是否在GPU模式下運行\n",
    "tf.config.list_physical_devices('GPU')\n",
    "import matplotlib.pyplot as plt\n",
    "import numpy as np"
   ]
  },
  {
   "cell_type": "code",
   "execution_count": 15,
   "metadata": {
    "colab": {
     "base_uri": "https://localhost:8080/",
     "height": 316
    },
    "id": "arw_qvI-1l4l",
    "outputId": "1501e3aa-f380-47ca-f8a6-e4dfc6a2b19b"
   },
   "outputs": [
    {
     "name": "stdout",
     "output_type": "stream",
     "text": [
      "5\n",
      "60000 train samples\n",
      "10000 test samples\n"
     ]
    },
    {
     "data": {
      "image/png": "[encoded data removed]",
      "text/plain": [
       "<Figure size 432x288 with 1 Axes>"
      ]
     },
     "metadata": {
      "needs_background": "light",
      "tags": []
     },
     "output_type": "display_data"
    }
   ],
   "source": [
    "# the data, shuffled and split between train and test sets\n",
    "(x_train_o, y_train), (x_test_o, y_test) = mnist.load_data()\n",
    "plt.imshow(x_train_o[0])\n",
    "print(y_train[0])\n",
    "\n",
    "# 拉平\n",
    "x_train = x_train_o.reshape(60000, 784)\n",
    "x_test = x_test_o.reshape(10000, 784)\n",
    "\n",
    "x_train = x_train.astype('float32')\n",
    "x_test = x_test.astype('float32')\n",
    "\n",
    "# normalization\n",
    "x_train /= 255\n",
    "x_test /= 255\n",
    "print(x_train.shape[0], 'train samples')\n",
    "print(x_test.shape[0], 'test samples')"
   ]
  },
  {
   "cell_type": "code",
   "execution_count": 16,
   "metadata": {
    "colab": {
     "base_uri": "https://localhost:8080/"
    },
    "id": "5QvklGCK2t9z",
    "outputId": "8e2c636a-c7b4-4585-d8dd-7315619f0980"
   },
   "outputs": [
    {
     "name": "stdout",
     "output_type": "stream",
     "text": [
      "[0. 0. 0. 0. 0. 1. 0. 0. 0. 0.]\n"
     ]
    }
   ],
   "source": [
    "# convert class vectors to binary class matrices\n",
    "# 做一次 one-hot encoding\n",
    "y_train = keras.utils.to_categorical(y_train)\n",
    "y_test_n = keras.utils.to_categorical(y_test)\n",
    "\n",
    "print(y_train[0])"
   ]
  },
  {
   "cell_type": "code",
   "execution_count": 17,
   "metadata": {
    "colab": {
     "base_uri": "https://localhost:8080/"
    },
    "id": "6zofffUl22ic",
    "outputId": "e948661d-57e3-4bc0-d8cf-372a2599c5d4"
   },
   "outputs": [
    {
     "name": "stdout",
     "output_type": "stream",
     "text": [
      "Model: \"sequential_1\"\n",
      "_________________________________________________________________\n",
      "Layer (type)                 Output Shape              Param #   \n",
      "=================================================================\n",
      "dense_2 (Dense)              (None, 20)                15700     \n",
      "_________________________________________________________________\n",
      "dense_3 (Dense)              (None, 20)                420       \n",
      "_________________________________________________________________\n",
      "dense_4 (Dense)              (None, 10)                210       \n",
      "=================================================================\n",
      "Total params: 16,330\n",
      "Trainable params: 16,330\n",
      "Non-trainable params: 0\n",
      "_________________________________________________________________\n"
     ]
    }
   ],
   "source": [
    "model = Sequential()\n",
    "model.add(Dense(20, activation=LeakyReLU(), input_shape=(784,)))\n",
    "model.add(Dense(20, activation=LeakyReLU()))\n",
    "model.add(Dense(10, activation='softmax'))\n",
    "model.summary()"
   ]
  },
  {
   "cell_type": "code",
   "execution_count": 18,
   "metadata": {
    "id": "IG024D2J4eIx"
   },
   "outputs": [],
   "source": [
    "model.compile(loss='categorical_crossentropy',\n",
    "              optimizer='adam',\n",
    "              metrics=['accuracy'])"
   ]
  },
  {
   "cell_type": "code",
   "execution_count": 19,
   "metadata": {
    "colab": {
     "base_uri": "https://localhost:8080/"
    },
    "id": "xP5stbYa4k9w",
    "outputId": "a5c2169e-e1c8-4530-ae1a-eafed761e133"
   },
   "outputs": [
    {
     "name": "stdout",
     "output_type": "stream",
     "text": [
      "Epoch 1/100\n",
      "315/315 [==============================] - 1s 4ms/step - loss: 1.1638 - accuracy: 0.6404 - val_loss: 0.3384 - val_accuracy: 0.9004\n",
      "Epoch 2/100\n",
      "315/315 [==============================] - 1s 3ms/step - loss: 0.3101 - accuracy: 0.9110 - val_loss: 0.2803 - val_accuracy: 0.9184\n",
      "Epoch 3/100\n",
      "315/315 [==============================] - 1s 3ms/step - loss: 0.2656 - accuracy: 0.9230 - val_loss: 0.2641 - val_accuracy: 0.9228\n",
      "Epoch 4/100\n",
      "315/315 [==============================] - 1s 3ms/step - loss: 0.2386 - accuracy: 0.9310 - val_loss: 0.2425 - val_accuracy: 0.9299\n",
      "Epoch 5/100\n",
      "315/315 [==============================] - 1s 3ms/step - loss: 0.2221 - accuracy: 0.9350 - val_loss: 0.2295 - val_accuracy: 0.9333\n",
      "Epoch 6/100\n",
      "315/315 [==============================] - 1s 3ms/step - loss: 0.1958 - accuracy: 0.9429 - val_loss: 0.2225 - val_accuracy: 0.9360\n",
      "Epoch 7/100\n",
      "315/315 [==============================] - 1s 3ms/step - loss: 0.1850 - accuracy: 0.9470 - val_loss: 0.2115 - val_accuracy: 0.9404\n",
      "Epoch 8/100\n",
      "315/315 [==============================] - 1s 3ms/step - loss: 0.1680 - accuracy: 0.9505 - val_loss: 0.2013 - val_accuracy: 0.9418\n",
      "Epoch 9/100\n",
      "315/315 [==============================] - 1s 3ms/step - loss: 0.1635 - accuracy: 0.9516 - val_loss: 0.2037 - val_accuracy: 0.9413\n",
      "Epoch 10/100\n",
      "315/315 [==============================] - 1s 3ms/step - loss: 0.1554 - accuracy: 0.9532 - val_loss: 0.1908 - val_accuracy: 0.9466\n",
      "Epoch 11/100\n",
      "315/315 [==============================] - 1s 3ms/step - loss: 0.1456 - accuracy: 0.9582 - val_loss: 0.1881 - val_accuracy: 0.9469\n",
      "Epoch 12/100\n",
      "315/315 [==============================] - 1s 3ms/step - loss: 0.1373 - accuracy: 0.9597 - val_loss: 0.1972 - val_accuracy: 0.9417\n",
      "Epoch 13/100\n",
      "315/315 [==============================] - 1s 3ms/step - loss: 0.1310 - accuracy: 0.9609 - val_loss: 0.1893 - val_accuracy: 0.9459\n",
      "Epoch 14/100\n",
      "315/315 [==============================] - 1s 3ms/step - loss: 0.1241 - accuracy: 0.9629 - val_loss: 0.1809 - val_accuracy: 0.9492\n",
      "Epoch 15/100\n",
      "315/315 [==============================] - 1s 3ms/step - loss: 0.1174 - accuracy: 0.9648 - val_loss: 0.1904 - val_accuracy: 0.9444\n",
      "Epoch 16/100\n",
      "315/315 [==============================] - 1s 3ms/step - loss: 0.1147 - accuracy: 0.9666 - val_loss: 0.1905 - val_accuracy: 0.9469\n",
      "Epoch 17/100\n",
      "315/315 [==============================] - 1s 4ms/step - loss: 0.1222 - accuracy: 0.9629 - val_loss: 0.1740 - val_accuracy: 0.9514\n",
      "Epoch 18/100\n",
      "315/315 [==============================] - 1s 3ms/step - loss: 0.1069 - accuracy: 0.9676 - val_loss: 0.1787 - val_accuracy: 0.9501\n",
      "Epoch 19/100\n",
      "315/315 [==============================] - 1s 3ms/step - loss: 0.1084 - accuracy: 0.9678 - val_loss: 0.1811 - val_accuracy: 0.9501\n",
      "Epoch 20/100\n",
      "315/315 [==============================] - 1s 3ms/step - loss: 0.1005 - accuracy: 0.9692 - val_loss: 0.1795 - val_accuracy: 0.9494\n",
      "Epoch 21/100\n",
      "315/315 [==============================] - 1s 3ms/step - loss: 0.0950 - accuracy: 0.9712 - val_loss: 0.1850 - val_accuracy: 0.9485\n",
      "Epoch 22/100\n",
      "315/315 [==============================] - 1s 3ms/step - loss: 0.0936 - accuracy: 0.9719 - val_loss: 0.1803 - val_accuracy: 0.9508\n",
      "Epoch 23/100\n",
      "315/315 [==============================] - 1s 4ms/step - loss: 0.0987 - accuracy: 0.9703 - val_loss: 0.1766 - val_accuracy: 0.9506\n",
      "Epoch 24/100\n",
      "315/315 [==============================] - 1s 3ms/step - loss: 0.1015 - accuracy: 0.9690 - val_loss: 0.1758 - val_accuracy: 0.9513\n",
      "Epoch 25/100\n",
      "315/315 [==============================] - 1s 3ms/step - loss: 0.0883 - accuracy: 0.9727 - val_loss: 0.1765 - val_accuracy: 0.9515\n",
      "Epoch 26/100\n",
      "315/315 [==============================] - 1s 3ms/step - loss: 0.0839 - accuracy: 0.9740 - val_loss: 0.1729 - val_accuracy: 0.9530\n",
      "Epoch 27/100\n",
      "315/315 [==============================] - 1s 3ms/step - loss: 0.0808 - accuracy: 0.9747 - val_loss: 0.1765 - val_accuracy: 0.9517\n",
      "Epoch 28/100\n",
      "315/315 [==============================] - 1s 3ms/step - loss: 0.0813 - accuracy: 0.9752 - val_loss: 0.1758 - val_accuracy: 0.9512\n",
      "Epoch 29/100\n",
      "315/315 [==============================] - 1s 3ms/step - loss: 0.0769 - accuracy: 0.9769 - val_loss: 0.1763 - val_accuracy: 0.9519\n",
      "Epoch 30/100\n",
      "315/315 [==============================] - 1s 3ms/step - loss: 0.0823 - accuracy: 0.9733 - val_loss: 0.1800 - val_accuracy: 0.9509\n",
      "Epoch 31/100\n",
      "315/315 [==============================] - 1s 3ms/step - loss: 0.0694 - accuracy: 0.9795 - val_loss: 0.1815 - val_accuracy: 0.9510\n",
      "Epoch 32/100\n",
      "315/315 [==============================] - 1s 3ms/step - loss: 0.0704 - accuracy: 0.9794 - val_loss: 0.1848 - val_accuracy: 0.9495\n",
      "Epoch 33/100\n",
      "315/315 [==============================] - 1s 4ms/step - loss: 0.0710 - accuracy: 0.9795 - val_loss: 0.1808 - val_accuracy: 0.9515\n",
      "Epoch 34/100\n",
      "315/315 [==============================] - 1s 4ms/step - loss: 0.0668 - accuracy: 0.9798 - val_loss: 0.1860 - val_accuracy: 0.9523\n",
      "Epoch 35/100\n",
      "315/315 [==============================] - 1s 3ms/step - loss: 0.0653 - accuracy: 0.9802 - val_loss: 0.1861 - val_accuracy: 0.9503\n",
      "Epoch 36/100\n",
      "315/315 [==============================] - 1s 3ms/step - loss: 0.0668 - accuracy: 0.9795 - val_loss: 0.1861 - val_accuracy: 0.9519\n",
      "Epoch 37/100\n",
      "315/315 [==============================] - 1s 3ms/step - loss: 0.0582 - accuracy: 0.9829 - val_loss: 0.1859 - val_accuracy: 0.9512\n",
      "Epoch 38/100\n",
      "315/315 [==============================] - 1s 3ms/step - loss: 0.0606 - accuracy: 0.9821 - val_loss: 0.2010 - val_accuracy: 0.9469\n",
      "Epoch 39/100\n",
      "315/315 [==============================] - 1s 3ms/step - loss: 0.0604 - accuracy: 0.9813 - val_loss: 0.1934 - val_accuracy: 0.9510\n",
      "Epoch 40/100\n",
      "315/315 [==============================] - 1s 4ms/step - loss: 0.0559 - accuracy: 0.9835 - val_loss: 0.1885 - val_accuracy: 0.9517\n",
      "Epoch 41/100\n",
      "315/315 [==============================] - 1s 3ms/step - loss: 0.0558 - accuracy: 0.9835 - val_loss: 0.1931 - val_accuracy: 0.9492\n",
      "Epoch 42/100\n",
      "315/315 [==============================] - 1s 3ms/step - loss: 0.0726 - accuracy: 0.9788 - val_loss: 0.1930 - val_accuracy: 0.9504\n",
      "Epoch 43/100\n",
      "315/315 [==============================] - 1s 3ms/step - loss: 0.0581 - accuracy: 0.9821 - val_loss: 0.2002 - val_accuracy: 0.9506\n",
      "Epoch 44/100\n",
      "315/315 [==============================] - 1s 4ms/step - loss: 0.0520 - accuracy: 0.9841 - val_loss: 0.2030 - val_accuracy: 0.9496\n",
      "Epoch 45/100\n",
      "315/315 [==============================] - 1s 3ms/step - loss: 0.0497 - accuracy: 0.9850 - val_loss: 0.1969 - val_accuracy: 0.9519\n",
      "Epoch 46/100\n",
      "315/315 [==============================] - 1s 3ms/step - loss: 0.0523 - accuracy: 0.9844 - val_loss: 0.1961 - val_accuracy: 0.9523\n",
      "Epoch 47/100\n",
      "315/315 [==============================] - 1s 3ms/step - loss: 0.0504 - accuracy: 0.9851 - val_loss: 0.1984 - val_accuracy: 0.9528\n",
      "Epoch 48/100\n",
      "315/315 [==============================] - 1s 3ms/step - loss: 0.0495 - accuracy: 0.9851 - val_loss: 0.2116 - val_accuracy: 0.9495\n",
      "Epoch 49/100\n",
      "315/315 [==============================] - 1s 3ms/step - loss: 0.0466 - accuracy: 0.9861 - val_loss: 0.1978 - val_accuracy: 0.9529\n",
      "Epoch 50/100\n",
      "315/315 [==============================] - 1s 3ms/step - loss: 0.0461 - accuracy: 0.9859 - val_loss: 0.2122 - val_accuracy: 0.9499\n",
      "Epoch 51/100\n",
      "315/315 [==============================] - 1s 3ms/step - loss: 0.0467 - accuracy: 0.9860 - val_loss: 0.2089 - val_accuracy: 0.9516\n",
      "Epoch 52/100\n",
      "315/315 [==============================] - 1s 3ms/step - loss: 0.0418 - accuracy: 0.9870 - val_loss: 0.2072 - val_accuracy: 0.9522\n",
      "Epoch 53/100\n",
      "315/315 [==============================] - 1s 3ms/step - loss: 0.0418 - accuracy: 0.9870 - val_loss: 0.2212 - val_accuracy: 0.9491\n",
      "Epoch 54/100\n",
      "315/315 [==============================] - 1s 3ms/step - loss: 0.0413 - accuracy: 0.9876 - val_loss: 0.2197 - val_accuracy: 0.9499\n",
      "Epoch 55/100\n",
      "315/315 [==============================] - 1s 3ms/step - loss: 0.0392 - accuracy: 0.9884 - val_loss: 0.2185 - val_accuracy: 0.9501\n",
      "Epoch 56/100\n",
      "315/315 [==============================] - 1s 3ms/step - loss: 0.0449 - accuracy: 0.9861 - val_loss: 0.2160 - val_accuracy: 0.9512\n",
      "Epoch 57/100\n",
      "315/315 [==============================] - 1s 3ms/step - loss: 0.0399 - accuracy: 0.9887 - val_loss: 0.2184 - val_accuracy: 0.9508\n",
      "Epoch 58/100\n",
      "315/315 [==============================] - 1s 3ms/step - loss: 0.0428 - accuracy: 0.9869 - val_loss: 0.2199 - val_accuracy: 0.9513\n",
      "Epoch 59/100\n",
      "315/315 [==============================] - 1s 3ms/step - loss: 0.0368 - accuracy: 0.9886 - val_loss: 0.2226 - val_accuracy: 0.9509\n",
      "Epoch 60/100\n",
      "315/315 [==============================] - 1s 3ms/step - loss: 0.0363 - accuracy: 0.9896 - val_loss: 0.2266 - val_accuracy: 0.9508\n",
      "Epoch 61/100\n",
      "315/315 [==============================] - 1s 3ms/step - loss: 0.0379 - accuracy: 0.9883 - val_loss: 0.2278 - val_accuracy: 0.9505\n",
      "Epoch 62/100\n",
      "315/315 [==============================] - 1s 3ms/step - loss: 0.0375 - accuracy: 0.9887 - val_loss: 0.2348 - val_accuracy: 0.9495\n",
      "Epoch 63/100\n",
      "315/315 [==============================] - 1s 3ms/step - loss: 0.0346 - accuracy: 0.9898 - val_loss: 0.2311 - val_accuracy: 0.9519\n",
      "Epoch 64/100\n",
      "315/315 [==============================] - 1s 3ms/step - loss: 0.0319 - accuracy: 0.9907 - val_loss: 0.2332 - val_accuracy: 0.9505\n",
      "Epoch 65/100\n",
      "315/315 [==============================] - 1s 3ms/step - loss: 0.0319 - accuracy: 0.9898 - val_loss: 0.2320 - val_accuracy: 0.9496\n",
      "Epoch 66/100\n",
      "315/315 [==============================] - 1s 3ms/step - loss: 0.0330 - accuracy: 0.9900 - val_loss: 0.2380 - val_accuracy: 0.9506\n",
      "Epoch 67/100\n",
      "315/315 [==============================] - 1s 3ms/step - loss: 0.0316 - accuracy: 0.9903 - val_loss: 0.2435 - val_accuracy: 0.9496\n",
      "Epoch 68/100\n",
      "315/315 [==============================] - 1s 3ms/step - loss: 0.0300 - accuracy: 0.9907 - val_loss: 0.2395 - val_accuracy: 0.9504\n",
      "Epoch 69/100\n",
      "315/315 [==============================] - 1s 4ms/step - loss: 0.0300 - accuracy: 0.9910 - val_loss: 0.2477 - val_accuracy: 0.9499\n",
      "Epoch 70/100\n",
      "315/315 [==============================] - 1s 3ms/step - loss: 0.0277 - accuracy: 0.9921 - val_loss: 0.2454 - val_accuracy: 0.9508\n",
      "Epoch 71/100\n",
      "315/315 [==============================] - 1s 3ms/step - loss: 0.0290 - accuracy: 0.9911 - val_loss: 0.2533 - val_accuracy: 0.9489\n",
      "Epoch 72/100\n",
      "315/315 [==============================] - 1s 4ms/step - loss: 0.0257 - accuracy: 0.9923 - val_loss: 0.2522 - val_accuracy: 0.9499\n",
      "Epoch 73/100\n",
      "315/315 [==============================] - 1s 3ms/step - loss: 0.0292 - accuracy: 0.9909 - val_loss: 0.2556 - val_accuracy: 0.9498\n",
      "Epoch 74/100\n",
      "315/315 [==============================] - 1s 4ms/step - loss: 0.0276 - accuracy: 0.9925 - val_loss: 0.2588 - val_accuracy: 0.9494\n",
      "Epoch 75/100\n",
      "315/315 [==============================] - 1s 3ms/step - loss: 0.0261 - accuracy: 0.9925 - val_loss: 0.2545 - val_accuracy: 0.9495\n",
      "Epoch 76/100\n",
      "315/315 [==============================] - 1s 3ms/step - loss: 0.0266 - accuracy: 0.9922 - val_loss: 0.2574 - val_accuracy: 0.9495\n",
      "Epoch 77/100\n",
      "315/315 [==============================] - 1s 3ms/step - loss: 0.0238 - accuracy: 0.9936 - val_loss: 0.2683 - val_accuracy: 0.9481\n",
      "Epoch 78/100\n",
      "315/315 [==============================] - 1s 3ms/step - loss: 0.0248 - accuracy: 0.9937 - val_loss: 0.2646 - val_accuracy: 0.9482\n",
      "Epoch 79/100\n",
      "315/315 [==============================] - 1s 3ms/step - loss: 0.0283 - accuracy: 0.9908 - val_loss: 0.2684 - val_accuracy: 0.9486\n",
      "Epoch 80/100\n",
      "315/315 [==============================] - 1s 3ms/step - loss: 0.0248 - accuracy: 0.9930 - val_loss: 0.2698 - val_accuracy: 0.9491\n",
      "Epoch 81/100\n",
      "315/315 [==============================] - 1s 3ms/step - loss: 0.0220 - accuracy: 0.9936 - val_loss: 0.2739 - val_accuracy: 0.9493\n",
      "Epoch 82/100\n",
      "315/315 [==============================] - 1s 3ms/step - loss: 0.0211 - accuracy: 0.9949 - val_loss: 0.2741 - val_accuracy: 0.9489\n",
      "Epoch 83/100\n",
      "315/315 [==============================] - 1s 3ms/step - loss: 0.0244 - accuracy: 0.9925 - val_loss: 0.2676 - val_accuracy: 0.9508\n",
      "Epoch 84/100\n",
      "315/315 [==============================] - 1s 4ms/step - loss: 0.0215 - accuracy: 0.9945 - val_loss: 0.2778 - val_accuracy: 0.9493\n",
      "Epoch 85/100\n",
      "315/315 [==============================] - 1s 3ms/step - loss: 0.0271 - accuracy: 0.9917 - val_loss: 0.2744 - val_accuracy: 0.9507\n",
      "Epoch 86/100\n",
      "315/315 [==============================] - 1s 3ms/step - loss: 0.0201 - accuracy: 0.9945 - val_loss: 0.2783 - val_accuracy: 0.9496\n",
      "Epoch 87/100\n",
      "315/315 [==============================] - 1s 3ms/step - loss: 0.0204 - accuracy: 0.9950 - val_loss: 0.2921 - val_accuracy: 0.9477\n",
      "Epoch 88/100\n",
      "315/315 [==============================] - 1s 3ms/step - loss: 0.0200 - accuracy: 0.9946 - val_loss: 0.2921 - val_accuracy: 0.9479\n",
      "Epoch 89/100\n",
      "315/315 [==============================] - 1s 3ms/step - loss: 0.0222 - accuracy: 0.9933 - val_loss: 0.2930 - val_accuracy: 0.9487\n",
      "Epoch 90/100\n",
      "315/315 [==============================] - 1s 3ms/step - loss: 0.0255 - accuracy: 0.9927 - val_loss: 0.2846 - val_accuracy: 0.9488\n",
      "Epoch 91/100\n",
      "315/315 [==============================] - 1s 3ms/step - loss: 0.0181 - accuracy: 0.9951 - val_loss: 0.2939 - val_accuracy: 0.9494\n",
      "Epoch 92/100\n",
      "315/315 [==============================] - 1s 3ms/step - loss: 0.0153 - accuracy: 0.9965 - val_loss: 0.3045 - val_accuracy: 0.9459\n",
      "Epoch 93/100\n",
      "315/315 [==============================] - 1s 3ms/step - loss: 0.0203 - accuracy: 0.9945 - val_loss: 0.3097 - val_accuracy: 0.9474\n",
      "Epoch 94/100\n",
      "315/315 [==============================] - 1s 3ms/step - loss: 0.0188 - accuracy: 0.9952 - val_loss: 0.2953 - val_accuracy: 0.9507\n",
      "Epoch 95/100\n",
      "315/315 [==============================] - 1s 3ms/step - loss: 0.0184 - accuracy: 0.9946 - val_loss: 0.2991 - val_accuracy: 0.9494\n",
      "Epoch 96/100\n",
      "315/315 [==============================] - 1s 3ms/step - loss: 0.0166 - accuracy: 0.9958 - val_loss: 0.3127 - val_accuracy: 0.9475\n",
      "Epoch 97/100\n",
      "315/315 [==============================] - 1s 3ms/step - loss: 0.0197 - accuracy: 0.9946 - val_loss: 0.3216 - val_accuracy: 0.9471\n",
      "Epoch 98/100\n",
      "315/315 [==============================] - 1s 3ms/step - loss: 0.0175 - accuracy: 0.9953 - val_loss: 0.3112 - val_accuracy: 0.9486\n",
      "Epoch 99/100\n",
      "315/315 [==============================] - 1s 3ms/step - loss: 0.0210 - accuracy: 0.9937 - val_loss: 0.3076 - val_accuracy: 0.9500\n",
      "Epoch 100/100\n",
      "315/315 [==============================] - 1s 3ms/step - loss: 0.0142 - accuracy: 0.9969 - val_loss: 0.3128 - val_accuracy: 0.9484\n"
     ]
    }
   ],
   "source": [
    "batch_size = 128\n",
    "epochs = 100\n",
    "history = model.fit(x_train, y_train,\n",
    "                    batch_size=batch_size,\n",
    "                    epochs=epochs,\n",
    "                    verbose=1,\n",
    "                    validation_split=0.33)"
   ]
  },
  {
   "cell_type": "code",
   "execution_count": 20,
   "metadata": {
    "colab": {
     "base_uri": "https://localhost:8080/"
    },
    "id": "Kw9a8Q1M4y8H",
    "outputId": "5043f01b-eee0-47ea-d2e6-3a14c6ca70b3"
   },
   "outputs": [
    {
     "name": "stdout",
     "output_type": "stream",
     "text": [
      "313/313 [==============================] - 1s 2ms/step - loss: 0.2832 - accuracy: 0.9557\n",
      "test Acc: 0.9556999802589417\n"
     ]
    }
   ],
   "source": [
    "result= model.evaluate(x_test, y_test_n)\n",
    "print(\"test Acc:\", result[1])"
   ]
  },
  {
   "cell_type": "code",
   "execution_count": 21,
   "metadata": {
    "colab": {
     "base_uri": "https://localhost:8080/",
     "height": 295
    },
    "id": "SAKA1EFt6twe",
    "outputId": "bc20a594-362d-48eb-de15-e686b883ba79"
   },
   "outputs": [
    {
     "data": {
      "image/png": "[encoded data removed]",
      "text/plain": [
       "<Figure size 432x288 with 1 Axes>"
      ]
     },
     "metadata": {
      "needs_background": "light",
      "tags": []
     },
     "output_type": "display_data"
    }
   ],
   "source": [
    "def show_train_history(train_history, train, validation):  \n",
    "    plt.plot(train_history.history[train])  \n",
    "    plt.plot(train_history.history[validation])  \n",
    "    plt.title('Train History')  \n",
    "    plt.ylabel(train)  \n",
    "    plt.xlabel('Epoch')  \n",
    "    plt.legend(['train', 'validation'], loc='upper left')  \n",
    "    plt.show()  \n",
    "show_train_history(history, 'accuracy', 'val_accuracy')  "
   ]
  },
  {
   "cell_type": "code",
   "execution_count": 22,
   "metadata": {
    "colab": {
     "base_uri": "https://localhost:8080/",
     "height": 494
    },
    "id": "K-qHte8k5ZhG",
    "outputId": "d8d04f0e-023f-4413-a954-adac22e5f03e"
   },
   "outputs": [
    {
     "name": "stdout",
     "output_type": "stream",
     "text": [
      "\t[Info] Making prediction to x_test\n"
     ]
    },
    {
     "name": "stderr",
     "output_type": "stream",
     "text": [
      "/usr/local/lib/python3.6/dist-packages/tensorflow/python/keras/engine/sequential.py:450: UserWarning: `model.predict_classes()` is deprecated and will be removed after 2021-01-01. Please use instead:* `np.argmax(model.predict(x), axis=-1)`,   if your model does multi-class classification   (e.g. if it uses a `softmax` last-layer activation).* `(model.predict(x) > 0.5).astype(\"int32\")`,   if your model does binary classification   (e.g. if it uses a `sigmoid` last-layer activation).\n",
      "  warnings.warn('`model.predict_classes()` is deprecated and '\n"
     ]
    },
    {
     "name": "stdout",
     "output_type": "stream",
     "text": [
      "\n",
      "\t[Info] Show 10 prediction result (From 240):\n",
      "[5 9 8 7 2 3 0 6 4 2]\n",
      "\n"
     ]
    },
    {
     "data": {
      "image/png": "[encoded data removed]",
      "text/plain": [
       "<Figure size 864x1008 with 10 Axes>"
      ]
     },
     "metadata": {
      "tags": []
     },
     "output_type": "display_data"
    },
    {
     "name": "stdout",
     "output_type": "stream",
     "text": [
      "\t[Info] Error analysis:\n",
      "\tAt 247'th: 4 is with wrong prediction as 6!\n"
     ]
    }
   ],
   "source": [
    "def plot_images_labels_predict(images, labels, prediction, idx, num=10):  \n",
    "    fig = plt.gcf()  \n",
    "    fig.set_size_inches(12, 14)  \n",
    "    if num > 25: num = 25  \n",
    "    for i in range(0, num):  \n",
    "        ax=plt.subplot(5,5, 1+i)  \n",
    "        ax.imshow(images[idx], cmap='binary')  \n",
    "        title = \"l=\" + str(labels[idx])  \n",
    "        if len(prediction) > 0:  \n",
    "            title = \"l={},p={}\".format(str(labels[idx]), str(prediction[idx]))  \n",
    "        else:  \n",
    "            title = \"l={}\".format(str(labels[idx]))  \n",
    "        ax.set_title(title, fontsize=10)  \n",
    "        ax.set_xticks([]); ax.set_yticks([])  \n",
    "        idx+=1  \n",
    "    plt.show()  \n",
    "\n",
    "def isDisplayAvl():  \n",
    "    return True\n",
    "\n",
    "print(\"\\t[Info] Making prediction to x_test\")  \n",
    "prediction = model.predict_classes(x_test)   \n",
    "print()  \n",
    "print(\"\\t[Info] Show 10 prediction result (From 240):\")  \n",
    "print(\"%s\\n\" % (prediction[240:250]))  \n",
    "  \n",
    "if isDisplayAvl():\n",
    "  plot_images_labels_predict(x_test_o, y_test, prediction, idx=240)  \n",
    "  \n",
    "print(\"\\t[Info] Error analysis:\")  \n",
    "for i in range(240,250):  \n",
    "  if prediction[i] != y_test[i]:  \n",
    "    print(\"\\tAt %d'th: %d is with wrong prediction as %d!\" % (i, y_test[i], prediction[i]))  "
   ]
  },
  {
   "cell_type": "markdown",
   "metadata": {
    "id": "4GMZi4xvBv8B"
   },
   "source": [
    "## 使用ＣＮＮ\n"
   ]
  },
  {
   "cell_type": "code",
   "execution_count": 23,
   "metadata": {
    "id": "vK8TtgEiEuqF"
   },
   "outputs": [],
   "source": [
    "(X_train, Y_train), (X_test, Y_test) = mnist.load_data()\n",
    "X_train = X_train.reshape(60000, 1, 28, 28)/255\n",
    "X_test = X_test.reshape(10000, 1, 28, 28)/255\n",
    "Y_train = keras.utils.to_categorical(Y_train)\n",
    "Y_test = keras.utils.to_categorical(Y_test)"
   ]
  },
  {
   "cell_type": "code",
   "execution_count": 24,
   "metadata": {
    "colab": {
     "base_uri": "https://localhost:8080/"
    },
    "id": "AzFDSS6pCNDI",
    "outputId": "8a7fb47d-b7d8-4704-b932-3654e60c4094"
   },
   "outputs": [
    {
     "name": "stdout",
     "output_type": "stream",
     "text": [
      "Model: \"sequential_2\"\n",
      "_________________________________________________________________\n",
      "Layer (type)                 Output Shape              Param #   \n",
      "=================================================================\n",
      "conv2d_1 (Conv2D)            (None, 1, 28, 32)         8096      \n",
      "_________________________________________________________________\n",
      "max_pooling2d_1 (MaxPooling2 (None, 1, 14, 16)         0         \n",
      "_________________________________________________________________\n",
      "flatten_1 (Flatten)          (None, 224)               0         \n",
      "_________________________________________________________________\n",
      "dense_5 (Dense)              (None, 256)               57600     \n",
      "_________________________________________________________________\n",
      "dense_6 (Dense)              (None, 10)                2570      \n",
      "=================================================================\n",
      "Total params: 68,266\n",
      "Trainable params: 68,266\n",
      "Non-trainable params: 0\n",
      "_________________________________________________________________\n"
     ]
    }
   ],
   "source": [
    "model1 = Sequential()\n",
    "model1.add(Conv2D(filters=32, kernel_size=3, input_shape=(1, 28, 28), activation='relu', padding='same'))\n",
    "model1.add(MaxPool2D(pool_size=2, data_format='channels_first'))\n",
    "model1.add(Flatten())\n",
    "model1.add(Dense(256, activation='relu'))\n",
    "model1.add(Dense(10, activation='softmax'))\n",
    "model1.summary()"
   ]
  },
  {
   "cell_type": "code",
   "execution_count": 25,
   "metadata": {
    "colab": {
     "base_uri": "https://localhost:8080/",
     "height": 533
    },
    "id": "H4CiEMtJCdlV",
    "outputId": "c1922bab-d2bb-4e26-b0f3-15c35aa199b8"
   },
   "outputs": [
    {
     "name": "stdout",
     "output_type": "stream",
     "text": [
      "Epoch 1/5\n",
      "629/629 [==============================] - 3s 4ms/step - loss: 0.6976 - accuracy: 0.8021 - val_loss: 0.1972 - val_accuracy: 0.9379\n",
      "Epoch 2/5\n",
      "629/629 [==============================] - 2s 4ms/step - loss: 0.1623 - accuracy: 0.9513 - val_loss: 0.1233 - val_accuracy: 0.9627\n",
      "Epoch 3/5\n",
      "629/629 [==============================] - 2s 4ms/step - loss: 0.1094 - accuracy: 0.9659 - val_loss: 0.1029 - val_accuracy: 0.9692\n",
      "Epoch 4/5\n",
      "629/629 [==============================] - 2s 3ms/step - loss: 0.0821 - accuracy: 0.9744 - val_loss: 0.0919 - val_accuracy: 0.9717\n",
      "Epoch 5/5\n",
      "629/629 [==============================] - 2s 3ms/step - loss: 0.0666 - accuracy: 0.9806 - val_loss: 0.0821 - val_accuracy: 0.9756\n",
      "313/313 [==============================] - 1s 2ms/step - loss: 0.0681 - accuracy: 0.9780\n",
      "Test:\n",
      "Loss: 0.0681164339184761\n",
      "Accuracy: 0.9779999852180481\n"
     ]
    },
    {
     "data": {
      "image/png": "[encoded data removed]",
      "text/plain": [
       "<Figure size 432x288 with 1 Axes>"
      ]
     },
     "metadata": {
      "needs_background": "light",
      "tags": []
     },
     "output_type": "display_data"
    }
   ],
   "source": [
    "model1.compile(loss='categorical_crossentropy', optimizer='adam', metrics=['accuracy'])\n",
    "h = model1.fit(X_train, Y_train, epochs=5, batch_size=64, verbose=1, validation_split=0.33)\n",
    "\n",
    "loss, accuracy = model1.evaluate(X_test, Y_test)\n",
    "print('Test:')\n",
    "print('Loss: %s\\nAccuracy: %s' % (loss, accuracy))\n",
    "\n",
    "show_train_history(h, 'accuracy', 'val_accuracy')  "
   ]
  },
  {
   "cell_type": "code",
   "execution_count": 26,
   "metadata": {
    "colab": {
     "base_uri": "https://localhost:8080/",
     "height": 286
    },
    "id": "R2dT5Ev6Dugj",
    "outputId": "8269730b-fe6b-4107-d883-ea7831cdc2ec"
   },
   "outputs": [
    {
     "name": "stdout",
     "output_type": "stream",
     "text": [
      "conv2d_1\n",
      "32\n"
     ]
    },
    {
     "data": {
      "image/png": "[encoded data removed]",
      "text/plain": [
       "<Figure size 432x288 with 96 Axes>"
      ]
     },
     "metadata": {
      "tags": []
     },
     "output_type": "display_data"
    }
   ],
   "source": [
    "# Iterate thru all the layers of the model\n",
    "# https://towardsdatascience.com/convolutional-neural-network-feature-map-and-filter-visualization-f75012a5a49c\n",
    "for layer in model1.layers:\n",
    "  if 'conv' in layer.name:\n",
    "      weights, bias= layer.get_weights()\n",
    "      print(layer.name)\n",
    "      \n",
    "      #normalize filter values between  0 and 1 for visualization\n",
    "      f_min, f_max = weights.min(), weights.max()\n",
    "      # print(f_max, f_min)\n",
    "      filters = (weights - f_min) / (f_max - f_min)  \n",
    "      print(filters.shape[3])\n",
    "      filter_cnt=1\n",
    "      \n",
    "      #plotting all the filters\n",
    "      for i in range(filters.shape[3]):\n",
    "          #get the filters\n",
    "          filt=filters[:,:,:, i]\n",
    "          #plotting each of the channel, color image RGB channels\n",
    "          for j in range(filters.shape[0]):\n",
    "              ax= plt.subplot(9, 11, filter_cnt)\n",
    "              ax.set_xticks([])\n",
    "              ax.set_yticks([])\n",
    "              plt.imshow(filt[:,:, j])\n",
    "              filter_cnt+=1\n",
    "      plt.show()"
   ]
  },
  {
   "cell_type": "code",
   "execution_count": 47,
   "metadata": {
    "colab": {
     "base_uri": "https://localhost:8080/",
     "height": 907
    },
    "id": "UHxZ6chvUY7P",
    "outputId": "e0abdcd7-3de1-4068-8ee3-35fbdc08e7bd"
   },
   "outputs": [
    {
     "name": "stdout",
     "output_type": "stream",
     "text": [
      "Model: \"sequential_3\"\n",
      "_________________________________________________________________\n",
      "Layer (type)                 Output Shape              Param #   \n",
      "=================================================================\n",
      "conv2d_2 (Conv2D)            (None, 1, 28, 32)         8096      \n",
      "_________________________________________________________________\n",
      "max_pooling2d_2 (MaxPooling2 (None, 1, 14, 16)         0         \n",
      "_________________________________________________________________\n",
      "conv2d_3 (Conv2D)            (None, 1, 14, 64)         9280      \n",
      "_________________________________________________________________\n",
      "max_pooling2d_3 (MaxPooling2 (None, 1, 7, 32)          0         \n",
      "_________________________________________________________________\n",
      "flatten_2 (Flatten)          (None, 224)               0         \n",
      "_________________________________________________________________\n",
      "dense_7 (Dense)              (None, 256)               57600     \n",
      "_________________________________________________________________\n",
      "dense_8 (Dense)              (None, 10)                2570      \n",
      "=================================================================\n",
      "Total params: 77,546\n",
      "Trainable params: 77,546\n",
      "Non-trainable params: 0\n",
      "_________________________________________________________________\n",
      "Epoch 1/5\n",
      "629/629 [==============================] - 3s 4ms/step - loss: 0.8005 - accuracy: 0.7489 - val_loss: 0.1790 - val_accuracy: 0.9456\n",
      "Epoch 2/5\n",
      "629/629 [==============================] - 2s 4ms/step - loss: 0.1528 - accuracy: 0.9525 - val_loss: 0.1216 - val_accuracy: 0.9605\n",
      "Epoch 3/5\n",
      "629/629 [==============================] - 2s 4ms/step - loss: 0.1042 - accuracy: 0.9682 - val_loss: 0.1031 - val_accuracy: 0.9689\n",
      "Epoch 4/5\n",
      "629/629 [==============================] - 2s 4ms/step - loss: 0.0788 - accuracy: 0.9746 - val_loss: 0.0810 - val_accuracy: 0.9754\n",
      "Epoch 5/5\n",
      "629/629 [==============================] - 2s 4ms/step - loss: 0.0621 - accuracy: 0.9816 - val_loss: 0.0790 - val_accuracy: 0.9760\n",
      "313/313 [==============================] - 1s 2ms/step - loss: 0.0681 - accuracy: 0.9780\n",
      "Test:\n",
      "Loss: 0.0681164339184761\n",
      "Accuracy: 0.9779999852180481\n"
     ]
    },
    {
     "data": {
      "image/png": "[encoded data removed]",
      "text/plain": [
       "<Figure size 432x288 with 1 Axes>"
      ]
     },
     "metadata": {
      "needs_background": "light",
      "tags": []
     },
     "output_type": "display_data"
    }
   ],
   "source": [
    "model2 = Sequential()\n",
    "model2.add(Conv2D(filters=32, kernel_size=3, input_shape=(1, 28, 28), activation='relu', padding='same'))\n",
    "model2.add(MaxPool2D(pool_size=2, data_format='channels_first'))\n",
    "model2.add(Conv2D(filters=64, kernel_size=3, activation='relu', padding='same'))\n",
    "model2.add(MaxPool2D(pool_size=2, data_format='channels_first'))\n",
    "model2.add(Flatten())\n",
    "model2.add(Dense(256, activation='relu'))\n",
    "model2.add(Dense(10, activation='softmax'))\n",
    "model2.summary()\n",
    "\n",
    "model2.compile(loss='categorical_crossentropy', optimizer='adam', metrics=['accuracy'])\n",
    "h2 = model2.fit(X_train, Y_train, epochs=5, batch_size=64, verbose=1, validation_split=0.33)\n",
    "\n",
    "loss, accuracy = model1.evaluate(X_test, Y_test)\n",
    "print('Test:')\n",
    "print('Loss: %s\\nAccuracy: %s' % (loss, accuracy))\n",
    "\n",
    "show_train_history(h2, 'accuracy', 'val_accuracy') "
   ]
  },
  {
   "cell_type": "code",
   "execution_count": 64,
   "metadata": {
    "colab": {
     "base_uri": "https://localhost:8080/",
     "height": 555
    },
    "id": "sPzB28UoJH2e",
    "outputId": "b540f10d-0983-4c6b-b0d4-d1fba48869a6"
   },
   "outputs": [
    {
     "name": "stdout",
     "output_type": "stream",
     "text": [
      "conv2d_2\n",
      "32\n"
     ]
    },
    {
     "data": {
      "image/png": "[encoded data removed]",
      "text/plain": [
       "<Figure size 432x288 with 96 Axes>"
      ]
     },
     "metadata": {
      "tags": []
     },
     "output_type": "display_data"
    },
    {
     "name": "stdout",
     "output_type": "stream",
     "text": [
      "conv2d_3\n",
      "64\n"
     ]
    },
    {
     "data": {
      "image/png": "[encoded data removed]",
      "text/plain": [
       "<Figure size 432x288 with 192 Axes>"
      ]
     },
     "metadata": {
      "tags": []
     },
     "output_type": "display_data"
    }
   ],
   "source": [
    "# Iterate thru all the layers of the model\n",
    "# https://towardsdatascience.com/convolutional-neural-network-feature-map-and-filter-visualization-f75012a5a49c\n",
    "for layer in model2.layers:\n",
    "  if 'conv' in layer.name:\n",
    "      weights, bias= layer.get_weights()\n",
    "      print(layer.name)\n",
    "      \n",
    "      #normalize filter values between  0 and 1 for visualization\n",
    "      f_min, f_max = weights.min(), weights.max()\n",
    "      # print(f_max, f_min)\n",
    "      filters = (weights - f_min) / (f_max - f_min)  \n",
    "      print(filters.shape[3])\n",
    "      filter_cnt=1\n",
    "      \n",
    "      #plotting all the filters\n",
    "      for i in range(filters.shape[3]):\n",
    "          #get the filters\n",
    "          filt=filters[:,:,:, i]\n",
    "          #plotting each of the channel, color image RGB channels\n",
    "          for j in range(filters.shape[0]):\n",
    "            ax= plt.subplot(filters.shape[3]/2, filters.shape[0]*2, filter_cnt)\n",
    "            ax.set_xticks([])\n",
    "            ax.set_yticks([])\n",
    "            plt.imshow(filt[:,:, j])\n",
    "            filter_cnt+=1\n",
    "      plt.show()"
   ]
  },
  {
   "cell_type": "code",
   "execution_count": null,
   "metadata": {
    "id": "76fOgHihJR7k"
   },
   "outputs": [],
   "source": []
  }
 ],
 "metadata": {
  "accelerator": "GPU",
  "colab": {
   "name": "Mnist.ipynb",
   "provenance": []
  },
  "kernelspec": {
   "display_name": "Python 3",
   "language": "python",
   "name": "python3"
  }
 },
 "nbformat": 4,
 "nbformat_minor": 1
}
